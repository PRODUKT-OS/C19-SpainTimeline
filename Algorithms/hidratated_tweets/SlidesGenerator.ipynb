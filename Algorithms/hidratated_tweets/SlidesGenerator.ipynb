{
 "cells": [
  {
   "cell_type": "markdown",
   "metadata": {},
   "source": [
    "# Definitions"
   ]
  },
  {
   "cell_type": "code",
   "execution_count": 3,
   "metadata": {},
   "outputs": [],
   "source": [
    "from pyquery import PyQuery as pq\n",
    "from lxml import etree\n",
    "import urllib\n",
    "import os\n",
    "def getNewsForWeek(startDate,endDate,month):\n",
    "    d = pq(url=\"https://es.wikipedia.org/wiki/Anexo:Cronolog%C3%ADa_de_la_pandemia_de_COVID-19_en_Espa%C3%B1a#Diciembre\")\n",
    "    d = d(\".mw-parser-output\")\n",
    "    d = d.remove(\"table\").remove(\"#toc\").remove(\"div\").remove(\"h3\").remove(\"p:first\").remove(\"h2:first\").find(\"b,#mw-headline,ul\")\n",
    "    items = [item.text() for item in d.items()]\n",
    "    res = '<ul class=\"list-group\">\\n'\n",
    "    for i,item in enumerate(items):\n",
    "        if(item == \"1 de enero\"):\n",
    "            break\n",
    "        if(item[0].isdigit() and len(item.split(' '))<4):\n",
    "            date = item.split(\" \")\n",
    "            try:\n",
    "                date.remove('de')\n",
    "            except ValueError:\n",
    "                pass  \n",
    "            date[1] = date[1].replace(':', '').lower()\n",
    "            if(month == date[1]):\n",
    "                if(int(date[0])>=int(startDate) and int(date[0])<int(endDate)):\n",
    "                    for j in range(i+1,len(items)):\n",
    "                        if(items[j][0].isdigit()):\n",
    "                            break\n",
    "                        if(items[j][0:7].lower() != \"extremo\"):\n",
    "                            res += '<li class=\"list-group-item\"><b>' + items[j][:150] + (items[j][150:] and '...  ')+\"</b>https://es.wikipedia.org/wiki/Anexo:Cronolog%C3%ADa_de_la_pandemia_de_COVID-19_en_Espa%C3%B1a#\"+  month.capitalize()+  '</li>\\n'\n",
    "    res += \"</ul>\"\n",
    "    return res\n",
    "def getWeeklySlides(startIndex):\n",
    "    files = os.listdir('../tweets/')\n",
    "    files.sort()\n",
    "    if 'GenerateTweetsIds.py' in files:\n",
    "        files.remove('GenerateTweetsIds.py')\n",
    "    directory = './'\n",
    "    jtext = ''\n",
    "    for i,filename in enumerate(files):\n",
    "        i+=1\n",
    "        if(i>=startIndex):\n",
    "            week1 = filename.split('.')[0].split('_')[1].split('-')\n",
    "            week2 = filename.split('.')[0].split('_')[2].split('-')\n",
    "            jtext += '{\"start_date\":{\"month\":\"'+week1[1] +'\",\"day\":\"'+week1[2] +'\",\"year\":\"'+week1[0] +'\"},\"end_date\":{\"month\":\"'+week2[1] +'\",\"day\":\"'+week2[2] +'\",\"year\":\"'+week2[0] +'\"},\"text\":{\"headline\":\"Week '+str(i)+'\",\"text\":`'+ '\\n<div class=\"row mr-auto ml-auto\">\\n'+'<div class=\"col-md-4 col-sm-2\">\\n'+'<div class=\"topic-circle\">\\n'+'<div id=\"event-week-'+str(i)+'A\"></div>\\n'+'</div>\\n' +'</div>\\n'+'<div class=\"col-md-4 col-sm-2\">\\n'+'<div class=\"topic-circle\">\\n'+'<div id=\"event-week-'+str(i)+'B\"></div>\\n'+'</div>\\n' +'</div>\\n'+'<div class=\"col-md-4 col-sm-2\">\\n'+'<div class=\"topic-circle\">\\n'+'<div id=\"event-week-'+str(i)+'C\"></div>\\n'+'</div>\\n' +'</div>\\n'    +'</div>\\n'+'<div class=\"row mr-auto ml-auto\">\\n'+'<div class=\"col-md-2 col-sm-1\"></div>\\n'+'<div class=\"col-md-4 col-sm-2\">\\n'+'<div class=\"topic-circle\">\\n'+'<div id=\"event-week-'+str(i)+'D\"></div>\\n'+'</div>\\n' +'</div>\\n'+'<div class=\"col-md-4 col-sm-2\">\\n'+'<div class=\"topic-circle\">\\n'+'<div id=\"event-week-'+str(i)+'E\"></div>\\n'+'</div>\\n' +'</div>\\n'+'<div class=\"col-md-2 col-sm-1\"></div>\\n'+'</div>\\n'+'`},\"background\":{\"color\":\"#0084b4\"},\"media\":{\"thumbnail\":\"/icons/twitter.png\"}}'\n",
    "\n",
    "            if(i != len(files)):\n",
    "                jtext += ','\n",
    "\n",
    "    return jtext\n",
    "\n",
    "def getNews(startIndex):\n",
    "    files = os.listdir('../tweets/')\n",
    "    files.sort()\n",
    "    if 'GenerateTweetsIds.py' in files:\n",
    "        files.remove('GenerateTweetsIds.py')\n",
    "    directory = './'\n",
    "    jtext = ','\n",
    "    for i,filename in enumerate(files):\n",
    "        i+=1\n",
    "        if(i>=startIndex):\n",
    "            week1 = filename.split('.')[0].split('_')[1].split('-')\n",
    "            week2 = filename.split('.')[0].split('_')[2].split('-')\n",
    "            months =[\"\",\"enero\",\"febrero\",\"marzo\",\"abril\",\"mayo\",\"junio\",\"julio\",\"agosto\",\"septiembre\",\"octubre\",\"noviembre\",\"diciembre\"] \n",
    "            jtext += '{\"start_date\":{\"month\":\"'+week1[1] +'\",\"day\":\"'+week1[2] +'\",\"year\":\"'+week1[0] +'\"},\"end_date\":{\"month\":\"'+week2[1] +'\",\"day\":\"'+week2[2] +'\",\"year\":\"'+week2[0] +'\"},\"text\":{\"headline\":\"News Week '+str(i)+'\",\"text\":`<div class=\"row mr-auto ml-auto\">\\n'+getNewsForWeek(week1[2],week2[2],months[int(week1[1])]) +'<\\div>`},\"background\":{\"color\":\"#0084b4\"},\"media\":{\"thumbnail\":\"/icons/newspaper.png\"}}'\n",
    "\n",
    "            if(i != len(files)):\n",
    "                jtext += ','\n",
    "\n",
    "    return jtext\n",
    "\n",
    "def getFullSlides():\n",
    "    res = \"var mySlides ={ \\\"caption\\\": \\\"<br>a\\\",\\\"title\\\": {\\\"text\\\": {\\\"headline\\\": \\\"COVID-19 Timeline in Spain<br/> 2020 - 2021\\\",\\\"\\\": '<p>Covid timeline in Spain</p> <img src=\\\"https://www.redpal.es/wp-content/uploads/2020/03/covid-1.png\\\" >'},\\\"background\\\": {\\\"color\\\": \\\"#0084b4\\\"},},\\\"events\\\": [\"\n",
    "    res += getWeeklySlides(14)\n",
    "    res += getNews(14)\n",
    "    res += \"]}\"\n",
    "    return res"
   ]
  },
  {
   "cell_type": "markdown",
   "metadata": {},
   "source": [
    "# Execution"
   ]
  },
  {
   "cell_type": "code",
   "execution_count": null,
   "metadata": {},
   "outputs": [],
   "source": [
    "print(getFullSlides())"
   ]
  }
 ],
 "metadata": {
  "kernelspec": {
   "display_name": "Python 3",
   "language": "python",
   "name": "python3"
  },
  "language_info": {
   "codemirror_mode": {
    "name": "ipython",
    "version": 3
   },
   "file_extension": ".py",
   "mimetype": "text/x-python",
   "name": "python",
   "nbconvert_exporter": "python",
   "pygments_lexer": "ipython3",
   "version": "3.8.3"
  }
 },
 "nbformat": 4,
 "nbformat_minor": 4
}
